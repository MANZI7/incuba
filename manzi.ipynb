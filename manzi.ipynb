{
 "cells": [
  {
   "cell_type": "code",
   "execution_count": 1,
   "metadata": {},
   "outputs": [],
   "source": [
    "main_objectives = 'We are supposed to find of the employees who are leaving the company and that one who plan to leave, so during this project were are going to solve the problem of employee in company x,  the data analyst is going to scope through the data of employee in company x, all this project is going to expose us in front of the real problem of some company and it will bring the idea of how real problem are being solve in company.'\n"
   ]
  },
  {
   "cell_type": "code",
   "execution_count": 2,
   "metadata": {},
   "outputs": [],
   "source": [
    "dm_outline = ['Business understanding','Data understanding','Data preparation','Modeling','Evaluation','Deployment']"
   ]
  },
  {
   "cell_type": "code",
   "execution_count": 3,
   "metadata": {},
   "outputs": [],
   "source": [
    "why_metrics = 'since the model may give satisfing result when are evaluated using a metric but it may also give poor results when evaluated using other metrics so it is very important to choose the right metrics for your model'"
   ]
  },
  {
   "cell_type": "code",
   "execution_count": 4,
   "metadata": {},
   "outputs": [],
   "source": [
    "how_success = 'in modeling there are a way of assessing how accuracy is the model so during designing a model you have to assess it and the make sure that the method you will use will give the maximum  best result'"
   ]
  },
  {
   "cell_type": "code",
   "execution_count": null,
   "metadata": {},
   "outputs": [],
   "source": [
    "challenge_text = 'inaccessible data,poor quality of data and the pressure from the top officer may be the challenge to the analyste '"
   ]
  }
 ],
 "metadata": {
  "kernelspec": {
   "display_name": "Python 3",
   "language": "python",
   "name": "python3"
  },
  "language_info": {
   "codemirror_mode": {
    "name": "ipython",
    "version": 3
   },
   "file_extension": ".py",
   "mimetype": "text/x-python",
   "name": "python",
   "nbconvert_exporter": "python",
   "pygments_lexer": "ipython3",
   "version": "3.7.6"
  }
 },
 "nbformat": 4,
 "nbformat_minor": 4
}
